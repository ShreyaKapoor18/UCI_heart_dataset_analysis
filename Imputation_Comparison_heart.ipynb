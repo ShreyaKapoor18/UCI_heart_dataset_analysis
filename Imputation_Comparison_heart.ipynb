{
 "cells": [
  {
   "cell_type": "markdown",
   "metadata": {},
   "source": [
    "Results:  <br> \n",
    "A. For KNN \n",
    "  - Accuracy decreased when Linear Interpolation was applied instead of simple imputation. The spline interpolation with order 3 just as good as the simple imputer. \n",
    "  - Spline Interpolation with order 3 gets better results than Linear Interpolation.\n",
    " \n",
    "B. For SVM \n",
    "   -  Accuracy Increased when using Linear interpolation instead of simple imputation. Number of False Negatives decreased.  \n",
    "   - There was no difference in the confusion matrix when Spline interpolation of order 3 was used instead of the linear interpolation. \n",
    "    "
   ]
  },
  {
   "cell_type": "code",
   "execution_count": 1,
   "metadata": {},
   "outputs": [],
   "source": [
    "%run imports-func.ipynb"
   ]
  },
  {
   "cell_type": "code",
   "execution_count": 2,
   "metadata": {},
   "outputs": [],
   "source": [
    "dataset = pd.read_csv('heart.csv')\n",
    "X = dataset.drop(columns = ['target'], axis = 1)\n",
    "y = dataset['target']"
   ]
  },
  {
   "cell_type": "code",
   "execution_count": 3,
   "metadata": {
    "scrolled": true
   },
   "outputs": [
    {
     "data": {
      "text/html": [
       "<div>\n",
       "<style scoped>\n",
       "    .dataframe tbody tr th:only-of-type {\n",
       "        vertical-align: middle;\n",
       "    }\n",
       "\n",
       "    .dataframe tbody tr th {\n",
       "        vertical-align: top;\n",
       "    }\n",
       "\n",
       "    .dataframe thead th {\n",
       "        text-align: right;\n",
       "    }\n",
       "</style>\n",
       "<table border=\"1\" class=\"dataframe\">\n",
       "  <thead>\n",
       "    <tr style=\"text-align: right;\">\n",
       "      <th></th>\n",
       "      <th>age</th>\n",
       "      <th>sex</th>\n",
       "      <th>cp</th>\n",
       "      <th>trestbps</th>\n",
       "      <th>chol</th>\n",
       "      <th>fbs</th>\n",
       "      <th>restecg</th>\n",
       "      <th>thalach</th>\n",
       "      <th>exang</th>\n",
       "      <th>oldpeak</th>\n",
       "      <th>slope</th>\n",
       "      <th>ca</th>\n",
       "      <th>thal</th>\n",
       "      <th>target</th>\n",
       "    </tr>\n",
       "  </thead>\n",
       "  <tbody>\n",
       "    <tr>\n",
       "      <th>0</th>\n",
       "      <td>63</td>\n",
       "      <td>1</td>\n",
       "      <td>3</td>\n",
       "      <td>145</td>\n",
       "      <td>233</td>\n",
       "      <td>1</td>\n",
       "      <td>0</td>\n",
       "      <td>150</td>\n",
       "      <td>0</td>\n",
       "      <td>2.3</td>\n",
       "      <td>0</td>\n",
       "      <td>0</td>\n",
       "      <td>1</td>\n",
       "      <td>1</td>\n",
       "    </tr>\n",
       "    <tr>\n",
       "      <th>1</th>\n",
       "      <td>37</td>\n",
       "      <td>1</td>\n",
       "      <td>2</td>\n",
       "      <td>130</td>\n",
       "      <td>250</td>\n",
       "      <td>0</td>\n",
       "      <td>1</td>\n",
       "      <td>187</td>\n",
       "      <td>0</td>\n",
       "      <td>3.5</td>\n",
       "      <td>0</td>\n",
       "      <td>0</td>\n",
       "      <td>2</td>\n",
       "      <td>1</td>\n",
       "    </tr>\n",
       "    <tr>\n",
       "      <th>2</th>\n",
       "      <td>41</td>\n",
       "      <td>0</td>\n",
       "      <td>1</td>\n",
       "      <td>130</td>\n",
       "      <td>204</td>\n",
       "      <td>0</td>\n",
       "      <td>0</td>\n",
       "      <td>172</td>\n",
       "      <td>0</td>\n",
       "      <td>1.4</td>\n",
       "      <td>2</td>\n",
       "      <td>0</td>\n",
       "      <td>2</td>\n",
       "      <td>1</td>\n",
       "    </tr>\n",
       "    <tr>\n",
       "      <th>3</th>\n",
       "      <td>56</td>\n",
       "      <td>1</td>\n",
       "      <td>1</td>\n",
       "      <td>120</td>\n",
       "      <td>236</td>\n",
       "      <td>0</td>\n",
       "      <td>1</td>\n",
       "      <td>178</td>\n",
       "      <td>0</td>\n",
       "      <td>0.8</td>\n",
       "      <td>2</td>\n",
       "      <td>0</td>\n",
       "      <td>2</td>\n",
       "      <td>1</td>\n",
       "    </tr>\n",
       "    <tr>\n",
       "      <th>4</th>\n",
       "      <td>57</td>\n",
       "      <td>0</td>\n",
       "      <td>0</td>\n",
       "      <td>120</td>\n",
       "      <td>354</td>\n",
       "      <td>0</td>\n",
       "      <td>1</td>\n",
       "      <td>163</td>\n",
       "      <td>1</td>\n",
       "      <td>0.6</td>\n",
       "      <td>2</td>\n",
       "      <td>0</td>\n",
       "      <td>2</td>\n",
       "      <td>1</td>\n",
       "    </tr>\n",
       "  </tbody>\n",
       "</table>\n",
       "</div>"
      ],
      "text/plain": [
       "   age  sex  cp  trestbps  chol  fbs  restecg  thalach  exang  oldpeak  slope  \\\n",
       "0   63    1   3       145   233    1        0      150      0      2.3      0   \n",
       "1   37    1   2       130   250    0        1      187      0      3.5      0   \n",
       "2   41    0   1       130   204    0        0      172      0      1.4      2   \n",
       "3   56    1   1       120   236    0        1      178      0      0.8      2   \n",
       "4   57    0   0       120   354    0        1      163      1      0.6      2   \n",
       "\n",
       "   ca  thal  target  \n",
       "0   0     1       1  \n",
       "1   0     2       1  \n",
       "2   0     2       1  \n",
       "3   0     2       1  \n",
       "4   0     2       1  "
      ]
     },
     "execution_count": 3,
     "metadata": {},
     "output_type": "execute_result"
    }
   ],
   "source": [
    "dataset.head()"
   ]
  },
  {
   "cell_type": "code",
   "execution_count": 4,
   "metadata": {},
   "outputs": [],
   "source": [
    "# Just the imputation without feature selection to compare the performance. "
   ]
  },
  {
   "cell_type": "code",
   "execution_count": 5,
   "metadata": {},
   "outputs": [],
   "source": [
    "list_to_impute = ['trestbps', 'chol','slope',  'thal']\n",
    "# according to the documentation \n",
    "# trestbps is the resting blood pressure so it should not be 0. \n",
    "# cholestrol also should not be 0 \n",
    "#  slope 1,2,3 are valid values because 2 is flat. 0 slope doesn't mean anything. \n",
    "# thal should not be 0 because it has values 1,2,3 as valid values in 3 classes. \n"
   ]
  },
  {
   "cell_type": "code",
   "execution_count": 6,
   "metadata": {},
   "outputs": [],
   "source": [
    "imputer = SimpleImputer(missing_values = 0, strategy = 'mean',verbose = 2)\n",
    "\n",
    "imputer = imputer.fit(X[list_to_impute])\n",
    "X[list_to_impute] = imputer.transform(X[list_to_impute])"
   ]
  },
  {
   "cell_type": "code",
   "execution_count": 7,
   "metadata": {},
   "outputs": [
    {
     "data": {
      "text/plain": [
       "trestbps    False\n",
       "chol        False\n",
       "slope       False\n",
       "thal        False\n",
       "dtype: bool"
      ]
     },
     "execution_count": 7,
     "metadata": {},
     "output_type": "execute_result"
    }
   ],
   "source": [
    "(X[list_to_impute] == 0).any()"
   ]
  },
  {
   "cell_type": "code",
   "execution_count": 8,
   "metadata": {},
   "outputs": [],
   "source": [
    "\n",
    "scaler = StandardScaler()\n",
    "X_train, X_test, y_train, y_test = train_test_split(X, y, random_state=7)\n",
    "scaler.fit(X_train)\n",
    "X_train = scaler.transform(X_train)\n",
    "X_test = scaler.transform(X_test)\n"
   ]
  },
  {
   "cell_type": "code",
   "execution_count": 9,
   "metadata": {},
   "outputs": [],
   "source": [
    "\n",
    "\n",
    "X_2 = dataset.drop(['target'],axis = 1)\n",
    "X_2[X_2[list_to_impute] == 0] = np.nan\n",
    "X_2 = X_2.interpolate(method ='linear', limit_direction = 'both', limit = 10)\n",
    "\n",
    "X_train_2, X_test_2, y_train_2, y_test_2 = train_test_split(X_2, y, random_state=7)\n",
    "scaler.fit(X_train_2)\n",
    "X_train_2 = scaler.transform(X_train_2)\n",
    "X_test_2 = scaler.transform(X_test_2)\n",
    "\n",
    "\n",
    "\n",
    "\n",
    "X_3 = dataset.drop(['target'],axis = 1)\n",
    "X_3[X_3[list_to_impute] == 0] = np.nan\n",
    "X_3 = X_3.interpolate(method = 'spline', order = 3).bfill()\n",
    "\n",
    "X_train_3, X_test_3, y_train_3, y_test_3 = train_test_split(X_3, y, random_state=7)\n",
    "scaler.fit(X_train_3)\n",
    "X_train_3 = scaler.transform(X_train_3)\n",
    "X_test_3 = scaler.transform(X_test_3)\n"
   ]
  },
  {
   "cell_type": "code",
   "execution_count": 21,
   "metadata": {},
   "outputs": [
    {
     "name": "stdout",
     "output_type": "stream",
     "text": [
      "                                           Simple Imputer                                           \n"
     ]
    },
    {
     "data": {
      "image/png": "[encoded data removed]",
      "text/plain": [
       "<Figure size 432x288 with 2 Axes>"
      ]
     },
     "metadata": {
      "needs_background": "light"
     },
     "output_type": "display_data"
    },
    {
     "name": "stdout",
     "output_type": "stream",
     "text": [
      "----------------------------------------------------------------------------------------------------\n",
      "                                        Linear Interpolation                                        \n"
     ]
    },
    {
     "data": {
      "image/png": "[encoded data removed]",
      "text/plain": [
       "<Figure size 432x288 with 2 Axes>"
      ]
     },
     "metadata": {
      "needs_background": "light"
     },
     "output_type": "display_data"
    },
    {
     "name": "stdout",
     "output_type": "stream",
     "text": [
      "----------------------------------------------------------------------------------------------------\n",
      "                                 Spline Interpolation with Order 3                                  \n"
     ]
    },
    {
     "data": {
      "image/png": "[encoded data removed]",
      "text/plain": [
       "<Figure size 432x288 with 2 Axes>"
      ]
     },
     "metadata": {
      "needs_background": "light"
     },
     "output_type": "display_data"
    }
   ],
   "source": [
    "#knn\n",
    "# knn on simple imputer \n",
    "\n",
    "\n",
    "print ('{:^100}'.format('Simple Imputer'))\n",
    "run_knn(X_train,y_train, X_test, y_test)\n",
    "plt.show()\n",
    "print ('-'*100)\n",
    "# knn on linear interpolation\n",
    "print ('{:^100}'.format('Linear Interpolation'))\n",
    "run_knn(X_train_2,y_train_2, X_test_2, y_test_2)\n",
    "plt.show()\n",
    "# knn on spline interpolation \n",
    "print ('-'*100)\n",
    "print ('{:^100}'.format('Spline Interpolation with Order 3'))\n",
    "run_knn(X_train_3,y_train_3, X_test_3, y_test_3)"
   ]
  },
  {
   "cell_type": "code",
   "execution_count": 37,
   "metadata": {},
   "outputs": [
    {
     "name": "stdout",
     "output_type": "stream",
     "text": [
      "                                           Simple Imputer                                           \n"
     ]
    },
    {
     "data": {
      "image/png": "[encoded data removed]",
      "text/plain": [
       "<Figure size 432x288 with 2 Axes>"
      ]
     },
     "metadata": {
      "needs_background": "light"
     },
     "output_type": "display_data"
    },
    {
     "name": "stdout",
     "output_type": "stream",
     "text": [
      "----------------------------------------------------------------------------------------------------\n",
      "                                        Linear Interpolation                                        \n"
     ]
    },
    {
     "data": {
      "image/png": "[encoded data removed]",
      "text/plain": [
       "<Figure size 432x288 with 2 Axes>"
      ]
     },
     "metadata": {
      "needs_background": "light"
     },
     "output_type": "display_data"
    },
    {
     "name": "stdout",
     "output_type": "stream",
     "text": [
      "----------------------------------------------------------------------------------------------------\n",
      "                                 Spline Interpolation with Order 3                                  \n"
     ]
    },
    {
     "data": {
      "image/png": "[encoded data removed]",
      "text/plain": [
       "<Figure size 432x288 with 2 Axes>"
      ]
     },
     "metadata": {
      "needs_background": "light"
     },
     "output_type": "display_data"
    }
   ],
   "source": [
    "#SVM\n",
    "# SVM on simple imputer \n",
    "\n",
    "print ('{:^100}'.format('Simple Imputer'))\n",
    "run_svm(X_train,y_train, X_test, y_test)\n",
    "print ('-'*100)\n",
    "# SVM on linear interpolation\n",
    "print ('{:^100}'.format('Linear Interpolation'))\n",
    "run_svm(X_train_2,y_train_2, X_test_2, y_test_2)\n",
    "# SVM on spline interpolation \n",
    "print ('-'*100)\n",
    "print ('{:^100}'.format('Spline Interpolation with Order 3'))\n",
    "run_svm(X_train_3,y_train_3, X_test_3, y_test_3)\n",
    "\n",
    "plt.show()"
   ]
  },
  {
   "cell_type": "code",
   "execution_count": 12,
   "metadata": {},
   "outputs": [
    {
     "name": "stdout",
     "output_type": "stream",
     "text": [
      "                                           Simple Imputer                                           \n",
      "Score for training set 0.8943\n",
      "Score for test set 0.75\n",
      "----------------------------------------------------------------------------------------------------\n",
      "                                        Linear Interpolation                                        \n",
      "Score for training set 0.8987\n",
      "Score for test set 0.7368\n",
      "----------------------------------------------------------------------------------------------------\n",
      "                                 Spline Interpolation with Order 3                                  \n",
      "Score for training set 0.8987\n",
      "Score for test set 0.75\n"
     ]
    }
   ],
   "source": [
    "# Regression on simple imputer\n",
    "print ('{:^100}'.format('Simple Imputer'))\n",
    "run_logistic(X_train, y_train, X_test, y_test)\n",
    "print ('-'*100)\n",
    "# Regression on data with linear interpolation\n",
    "print ('{:^100}'.format('Linear Interpolation'))\n",
    "run_logistic(X_train_2,y_train_2, X_test_2, y_test_2)\n",
    "print ('-'*100)\n",
    "# Regression on data with spline interpolation\n",
    "print ('{:^100}'.format('Spline Interpolation with Order 3'))\n",
    "run_logistic(X_train_3,y_train_3, X_test_3, y_test_3)"
   ]
  },
  {
   "cell_type": "code",
   "execution_count": 13,
   "metadata": {},
   "outputs": [
    {
     "name": "stdout",
     "output_type": "stream",
     "text": [
      "                                           Simple Imputer                                           \n",
      "Coefficients: \n",
      " [-0.   -0.09  0.13 -0.05 -0.01  0.02  0.01  0.05 -0.08 -0.09  0.06 -0.09\n",
      " -0.08]\n",
      "Mean squared error: 0.17\n",
      "Variance score: 0.32\n",
      "----------------------------------------------------------------------------------------------------\n",
      "                                        Linear Interpolation                                        \n",
      "Coefficients: \n",
      " [ 0.   -0.09  0.12 -0.05 -0.01  0.01  0.    0.05 -0.08 -0.09  0.07 -0.09\n",
      " -0.08]\n",
      "Mean squared error: 0.17\n",
      "Variance score: 0.33\n",
      "----------------------------------------------------------------------------------------------------\n",
      "                                 Spline Interpolation with Order 3                                  \n",
      "Coefficients: \n",
      " [-0.   -0.09  0.13 -0.05 -0.01  0.02  0.01  0.05 -0.08 -0.09  0.07 -0.09\n",
      " -0.08]\n",
      "Mean squared error: 0.17\n",
      "Variance score: 0.33\n"
     ]
    }
   ],
   "source": [
    "# Regression on simple imputer\n",
    "print ('{:^100}'.format('Simple Imputer'))\n",
    "run_linear(X_train, y_train, X_test, y_test)\n",
    "print ('-'*100)\n",
    "# Regression on data with linear interpolation\n",
    "print ('{:^100}'.format('Linear Interpolation'))\n",
    "run_linear(X_train_2,y_train_2, X_test_2, y_test_2)\n",
    "print ('-'*100)\n",
    "# Regression on data with spline interpolation\n",
    "print ('{:^100}'.format('Spline Interpolation with Order 3'))\n",
    "run_linear(X_train_3,y_train_3, X_test_3, y_test_3)"
   ]
  },
  {
   "cell_type": "code",
   "execution_count": null,
   "metadata": {},
   "outputs": [],
   "source": []
  },
  {
   "cell_type": "code",
   "execution_count": null,
   "metadata": {},
   "outputs": [],
   "source": []
  }
 ],
 "metadata": {
  "kernelspec": {
   "display_name": "Python [conda env:py37] *",
   "language": "python",
   "name": "conda-env-py37-py"
  },
  "language_info": {
   "codemirror_mode": {
    "name": "ipython",
    "version": 3
   },
   "file_extension": ".py",
   "mimetype": "text/x-python",
   "name": "python",
   "nbconvert_exporter": "python",
   "pygments_lexer": "ipython3",
   "version": "3.7.3"
  }
 },
 "nbformat": 4,
 "nbformat_minor": 2
}
